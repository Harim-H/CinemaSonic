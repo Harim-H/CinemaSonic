{
 "cells": [
  {
   "cell_type": "code",
   "execution_count": 1,
   "metadata": {},
   "outputs": [],
   "source": [
    "import nltk\n",
    "import pandas as pd"
   ]
  },
  {
   "cell_type": "code",
   "execution_count": 2,
   "metadata": {},
   "outputs": [],
   "source": [
    "movies_df = pd.read_csv(\"clean_movie_dataset.csv\")"
   ]
  },
  {
   "cell_type": "code",
   "execution_count": 19,
   "metadata": {},
   "outputs": [],
   "source": [
    "movies_df['director'] = movies_df['director'].str.lower()"
   ]
  },
  {
   "cell_type": "code",
   "execution_count": 33,
   "metadata": {},
   "outputs": [
    {
     "data": {
      "text/html": [
       "<div>\n",
       "<style scoped>\n",
       "    .dataframe tbody tr th:only-of-type {\n",
       "        vertical-align: middle;\n",
       "    }\n",
       "\n",
       "    .dataframe tbody tr th {\n",
       "        vertical-align: top;\n",
       "    }\n",
       "\n",
       "    .dataframe thead th {\n",
       "        text-align: right;\n",
       "    }\n",
       "</style>\n",
       "<table border=\"1\" class=\"dataframe\">\n",
       "  <thead>\n",
       "    <tr style=\"text-align: right;\">\n",
       "      <th></th>\n",
       "      <th>poster</th>\n",
       "      <th>title</th>\n",
       "      <th>certificate</th>\n",
       "      <th>runtime</th>\n",
       "      <th>genre</th>\n",
       "      <th>rating</th>\n",
       "      <th>about</th>\n",
       "      <th>director</th>\n",
       "      <th>stars</th>\n",
       "      <th>votes</th>\n",
       "      <th>gross_earn</th>\n",
       "      <th>clean about</th>\n",
       "    </tr>\n",
       "  </thead>\n",
       "  <tbody>\n",
       "    <tr>\n",
       "      <th>0</th>\n",
       "      <td>https://m.media-amazon.com/images/S/sash/4Fyxw...</td>\n",
       "      <td>the shawshank redemption</td>\n",
       "      <td>15</td>\n",
       "      <td>142 min</td>\n",
       "      <td>[drama]</td>\n",
       "      <td>9.3</td>\n",
       "      <td>Two imprisoned men bond over a number of years...</td>\n",
       "      <td>frank darabont</td>\n",
       "      <td>('Tim Robbins',), ('Morgan Freeman',), ('Bob G...</td>\n",
       "      <td>26,26,905</td>\n",
       "      <td>$28.34M</td>\n",
       "      <td>['two', 'imprisoned', 'men', 'bond', 'number',...</td>\n",
       "    </tr>\n",
       "    <tr>\n",
       "      <th>1</th>\n",
       "      <td>https://m.media-amazon.com/images/S/sash/4Fyxw...</td>\n",
       "      <td>the dark knight</td>\n",
       "      <td>12A</td>\n",
       "      <td>152 min</td>\n",
       "      <td>[action,  crime,  drama]</td>\n",
       "      <td>9.0</td>\n",
       "      <td>When the menace known as the Joker wreaks havo...</td>\n",
       "      <td>christopher nolan</td>\n",
       "      <td>('Christian Bale',), ('Heath Ledger',), ('Aaro...</td>\n",
       "      <td>25,98,173</td>\n",
       "      <td>$534.86M</td>\n",
       "      <td>['menace', 'known', 'joker', 'wreaks', 'havoc'...</td>\n",
       "    </tr>\n",
       "    <tr>\n",
       "      <th>2</th>\n",
       "      <td>https://m.media-amazon.com/images/S/sash/4Fyxw...</td>\n",
       "      <td>inception</td>\n",
       "      <td>12A</td>\n",
       "      <td>148 min</td>\n",
       "      <td>[action,  adventure,  sci-fi]</td>\n",
       "      <td>8.8</td>\n",
       "      <td>A thief who steals corporate secrets through t...</td>\n",
       "      <td>christopher nolan</td>\n",
       "      <td>('Leonardo DiCaprio',), ('Joseph Gordon-Levitt...</td>\n",
       "      <td>23,04,062</td>\n",
       "      <td>$292.58M</td>\n",
       "      <td>['thief', 'steals', 'corporate', 'secrets', 'u...</td>\n",
       "    </tr>\n",
       "    <tr>\n",
       "      <th>3</th>\n",
       "      <td>https://m.media-amazon.com/images/S/sash/4Fyxw...</td>\n",
       "      <td>fight club</td>\n",
       "      <td>18</td>\n",
       "      <td>139 min</td>\n",
       "      <td>[drama]</td>\n",
       "      <td>8.8</td>\n",
       "      <td>An insomniac office worker and a devil-may-car...</td>\n",
       "      <td>david fincher</td>\n",
       "      <td>('Brad Pitt',), ('Edward Norton',), ('Meat Loa...</td>\n",
       "      <td>20,71,088</td>\n",
       "      <td>$37.03M</td>\n",
       "      <td>['insomniac', 'office', 'worker', 'devilmaycar...</td>\n",
       "    </tr>\n",
       "    <tr>\n",
       "      <th>4</th>\n",
       "      <td>https://m.media-amazon.com/images/S/sash/4Fyxw...</td>\n",
       "      <td>pulp fiction</td>\n",
       "      <td>18</td>\n",
       "      <td>154 min</td>\n",
       "      <td>[crime,  drama]</td>\n",
       "      <td>8.9</td>\n",
       "      <td>The lives of two mob hitmen, a boxer, a gangst...</td>\n",
       "      <td>quentin tarantino</td>\n",
       "      <td>('John Travolta',), ('Uma Thurman',), ('Samuel...</td>\n",
       "      <td>20,11,013</td>\n",
       "      <td>$107.93M</td>\n",
       "      <td>['lives', 'two', 'mob', 'hitmen', 'boxer', 'ga...</td>\n",
       "    </tr>\n",
       "    <tr>\n",
       "      <th>...</th>\n",
       "      <td>...</td>\n",
       "      <td>...</td>\n",
       "      <td>...</td>\n",
       "      <td>...</td>\n",
       "      <td>...</td>\n",
       "      <td>...</td>\n",
       "      <td>...</td>\n",
       "      <td>...</td>\n",
       "      <td>...</td>\n",
       "      <td>...</td>\n",
       "      <td>...</td>\n",
       "      <td>...</td>\n",
       "    </tr>\n",
       "    <tr>\n",
       "      <th>4981</th>\n",
       "      <td>https://m.media-amazon.com/images/S/sash/4Fyxw...</td>\n",
       "      <td>seven brides for seven brothers</td>\n",
       "      <td>U</td>\n",
       "      <td>102 min</td>\n",
       "      <td>[comedy,  drama,  musical]</td>\n",
       "      <td>7.3</td>\n",
       "      <td>In 1850 Oregon, when a backwoodsman brings a w...</td>\n",
       "      <td>stanley donen</td>\n",
       "      <td>('Jane Powell',), ('Howard Keel',), ('Jeff Ric...</td>\n",
       "      <td>25,112</td>\n",
       "      <td>$9.40M</td>\n",
       "      <td>['1850', 'oregon', 'backwoodsman', 'brings', '...</td>\n",
       "    </tr>\n",
       "    <tr>\n",
       "      <th>4982</th>\n",
       "      <td>https://m.media-amazon.com/images/S/sash/4Fyxw...</td>\n",
       "      <td>playing it cool</td>\n",
       "      <td>15</td>\n",
       "      <td>94 min</td>\n",
       "      <td>[comedy,  romance]</td>\n",
       "      <td>5.9</td>\n",
       "      <td>Unrequited love motivates a guy to write about...</td>\n",
       "      <td>justin reardon</td>\n",
       "      <td>('Chris Evans',), ('Michelle Monaghan',), ('To...</td>\n",
       "      <td>28,515</td>\n",
       "      <td>NaN</td>\n",
       "      <td>['unrequited', 'love', 'motivates', 'guy', 'wr...</td>\n",
       "    </tr>\n",
       "    <tr>\n",
       "      <th>4983</th>\n",
       "      <td>https://m.media-amazon.com/images/S/sash/4Fyxw...</td>\n",
       "      <td>a moment to remember</td>\n",
       "      <td>144 min</td>\n",
       "      <td>Drama, Romance</td>\n",
       "      <td>nan</td>\n",
       "      <td>8.1</td>\n",
       "      <td>A young couple's enduring love is tested when ...</td>\n",
       "      <td>john h. lee</td>\n",
       "      <td>('Jung Woo-sung',), ('Son Ye-jin',), ('Jong-ha...</td>\n",
       "      <td>23,957</td>\n",
       "      <td>NaN</td>\n",
       "      <td>['young', 'couples', 'enduring', 'love', 'test...</td>\n",
       "    </tr>\n",
       "    <tr>\n",
       "      <th>4984</th>\n",
       "      <td>https://m.media-amazon.com/images/S/sash/4Fyxw...</td>\n",
       "      <td>hairspray</td>\n",
       "      <td>PG</td>\n",
       "      <td>92 min</td>\n",
       "      <td>[comedy,  drama,  family]</td>\n",
       "      <td>7.0</td>\n",
       "      <td>A 'pleasantly plump' teenager teaches 1962 Bal...</td>\n",
       "      <td>john waters</td>\n",
       "      <td>('Sonny Bono',), ('Ruth Brown',), ('Divine',),...</td>\n",
       "      <td>21,536</td>\n",
       "      <td>$6.67M</td>\n",
       "      <td>['pleasantly', 'plump', 'teenager', 'teaches',...</td>\n",
       "    </tr>\n",
       "    <tr>\n",
       "      <th>4985</th>\n",
       "      <td>https://m.media-amazon.com/images/S/sash/4Fyxw...</td>\n",
       "      <td>mccabe &amp; mrs. miller</td>\n",
       "      <td>X</td>\n",
       "      <td>120 min</td>\n",
       "      <td>[drama,  western]</td>\n",
       "      <td>7.6</td>\n",
       "      <td>A gambler and a prostitute become business par...</td>\n",
       "      <td>robert altman</td>\n",
       "      <td>('Warren Beatty',), ('Julie Christie',), ('Ren...</td>\n",
       "      <td>25,097</td>\n",
       "      <td>$8.20M</td>\n",
       "      <td>['gambler', 'prostitute', 'become', 'business'...</td>\n",
       "    </tr>\n",
       "  </tbody>\n",
       "</table>\n",
       "<p>4986 rows × 12 columns</p>\n",
       "</div>"
      ],
      "text/plain": [
       "                                                 poster  \\\n",
       "0     https://m.media-amazon.com/images/S/sash/4Fyxw...   \n",
       "1     https://m.media-amazon.com/images/S/sash/4Fyxw...   \n",
       "2     https://m.media-amazon.com/images/S/sash/4Fyxw...   \n",
       "3     https://m.media-amazon.com/images/S/sash/4Fyxw...   \n",
       "4     https://m.media-amazon.com/images/S/sash/4Fyxw...   \n",
       "...                                                 ...   \n",
       "4981  https://m.media-amazon.com/images/S/sash/4Fyxw...   \n",
       "4982  https://m.media-amazon.com/images/S/sash/4Fyxw...   \n",
       "4983  https://m.media-amazon.com/images/S/sash/4Fyxw...   \n",
       "4984  https://m.media-amazon.com/images/S/sash/4Fyxw...   \n",
       "4985  https://m.media-amazon.com/images/S/sash/4Fyxw...   \n",
       "\n",
       "                                title certificate         runtime  \\\n",
       "0            the shawshank redemption          15         142 min   \n",
       "1                     the dark knight         12A         152 min   \n",
       "2                           inception         12A         148 min   \n",
       "3                          fight club          18         139 min   \n",
       "4                        pulp fiction          18         154 min   \n",
       "...                               ...         ...             ...   \n",
       "4981  seven brides for seven brothers           U         102 min   \n",
       "4982                  playing it cool          15          94 min   \n",
       "4983             a moment to remember     144 min  Drama, Romance   \n",
       "4984                        hairspray          PG          92 min   \n",
       "4985             mccabe & mrs. miller           X         120 min   \n",
       "\n",
       "                              genre  rating  \\\n",
       "0                           [drama]     9.3   \n",
       "1          [action,  crime,  drama]     9.0   \n",
       "2     [action,  adventure,  sci-fi]     8.8   \n",
       "3                           [drama]     8.8   \n",
       "4                   [crime,  drama]     8.9   \n",
       "...                             ...     ...   \n",
       "4981     [comedy,  drama,  musical]     7.3   \n",
       "4982             [comedy,  romance]     5.9   \n",
       "4983                            nan     8.1   \n",
       "4984      [comedy,  drama,  family]     7.0   \n",
       "4985              [drama,  western]     7.6   \n",
       "\n",
       "                                                  about           director  \\\n",
       "0     Two imprisoned men bond over a number of years...     frank darabont   \n",
       "1     When the menace known as the Joker wreaks havo...  christopher nolan   \n",
       "2     A thief who steals corporate secrets through t...  christopher nolan   \n",
       "3     An insomniac office worker and a devil-may-car...      david fincher   \n",
       "4     The lives of two mob hitmen, a boxer, a gangst...  quentin tarantino   \n",
       "...                                                 ...                ...   \n",
       "4981  In 1850 Oregon, when a backwoodsman brings a w...      stanley donen   \n",
       "4982  Unrequited love motivates a guy to write about...     justin reardon   \n",
       "4983  A young couple's enduring love is tested when ...        john h. lee   \n",
       "4984  A 'pleasantly plump' teenager teaches 1962 Bal...        john waters   \n",
       "4985  A gambler and a prostitute become business par...      robert altman   \n",
       "\n",
       "                                                  stars      votes gross_earn  \\\n",
       "0     ('Tim Robbins',), ('Morgan Freeman',), ('Bob G...  26,26,905    $28.34M   \n",
       "1     ('Christian Bale',), ('Heath Ledger',), ('Aaro...  25,98,173   $534.86M   \n",
       "2     ('Leonardo DiCaprio',), ('Joseph Gordon-Levitt...  23,04,062   $292.58M   \n",
       "3     ('Brad Pitt',), ('Edward Norton',), ('Meat Loa...  20,71,088    $37.03M   \n",
       "4     ('John Travolta',), ('Uma Thurman',), ('Samuel...  20,11,013   $107.93M   \n",
       "...                                                 ...        ...        ...   \n",
       "4981  ('Jane Powell',), ('Howard Keel',), ('Jeff Ric...     25,112     $9.40M   \n",
       "4982  ('Chris Evans',), ('Michelle Monaghan',), ('To...     28,515        NaN   \n",
       "4983  ('Jung Woo-sung',), ('Son Ye-jin',), ('Jong-ha...     23,957        NaN   \n",
       "4984  ('Sonny Bono',), ('Ruth Brown',), ('Divine',),...     21,536     $6.67M   \n",
       "4985  ('Warren Beatty',), ('Julie Christie',), ('Ren...     25,097     $8.20M   \n",
       "\n",
       "                                            clean about  \n",
       "0     ['two', 'imprisoned', 'men', 'bond', 'number',...  \n",
       "1     ['menace', 'known', 'joker', 'wreaks', 'havoc'...  \n",
       "2     ['thief', 'steals', 'corporate', 'secrets', 'u...  \n",
       "3     ['insomniac', 'office', 'worker', 'devilmaycar...  \n",
       "4     ['lives', 'two', 'mob', 'hitmen', 'boxer', 'ga...  \n",
       "...                                                 ...  \n",
       "4981  ['1850', 'oregon', 'backwoodsman', 'brings', '...  \n",
       "4982  ['unrequited', 'love', 'motivates', 'guy', 'wr...  \n",
       "4983  ['young', 'couples', 'enduring', 'love', 'test...  \n",
       "4984  ['pleasantly', 'plump', 'teenager', 'teaches',...  \n",
       "4985  ['gambler', 'prostitute', 'become', 'business'...  \n",
       "\n",
       "[4986 rows x 12 columns]"
      ]
     },
     "execution_count": 33,
     "metadata": {},
     "output_type": "execute_result"
    }
   ],
   "source": [
    "movies_df"
   ]
  },
  {
   "cell_type": "code",
   "execution_count": 28,
   "metadata": {},
   "outputs": [
    {
     "name": "stdout",
     "output_type": "stream",
     "text": [
      "drama\n"
     ]
    }
   ],
   "source": [
    "for x in ['drama']:\n",
    "  print(x)"
   ]
  },
  {
   "cell_type": "code",
   "execution_count": 32,
   "metadata": {},
   "outputs": [
    {
     "name": "stdout",
     "output_type": "stream",
     "text": [
      "horror\n",
      " crime\n",
      " horror\n",
      " western\n",
      "film-noir\n",
      "sci-fi\n",
      "adventure\n",
      "a\n",
      "mystery\n",
      " thriller\n",
      " sci-fi\n",
      " comedy\n",
      " romance\n",
      " mystery\n",
      "family\n",
      "animation\n",
      "western\n",
      " biography\n",
      "crime\n",
      " sport\n",
      "thriller\n",
      " fantasy\n",
      "action\n",
      " war\n",
      "drama\n",
      " musical\n",
      " film-noir\n",
      "romance\n",
      "comedy\n",
      "n\n",
      " action\n",
      " drama\n",
      "fantasy\n",
      " music\n",
      " history\n",
      " adventure\n",
      " family\n",
      "biography\n",
      "musical\n"
     ]
    }
   ],
   "source": [
    "for x in set([g for lst in movies_df['genre'] for g in lst]):\n",
    "  print(x)"
   ]
  },
  {
   "cell_type": "code",
   "execution_count": 21,
   "metadata": {},
   "outputs": [],
   "source": [
    "movies_df.to_csv('clean_movie_dataset.csv')"
   ]
  },
  {
   "cell_type": "code",
   "execution_count": 41,
   "metadata": {},
   "outputs": [
    {
     "name": "stdout",
     "output_type": "stream",
     "text": [
      "True\n"
     ]
    }
   ],
   "source": [
    "print(movies_df[movies_df['director'].str.lower() == \"x\"].empty)"
   ]
  },
  {
   "cell_type": "code",
   "execution_count": 5,
   "metadata": {},
   "outputs": [
    {
     "data": {
      "text/plain": [
       "2"
      ]
     },
     "execution_count": 5,
     "metadata": {},
     "output_type": "execute_result"
    }
   ],
   "source": [
    "nltk.edit_distance([\"apple\",\"apple\"], ['word','juice'])"
   ]
  },
  {
   "cell_type": "code",
   "execution_count": 3,
   "metadata": {},
   "outputs": [
    {
     "data": {
      "text/plain": [
       "5"
      ]
     },
     "execution_count": 3,
     "metadata": {},
     "output_type": "execute_result"
    }
   ],
   "source": [
    "nltk.edit_distance(\"apple\", 'word')"
   ]
  },
  {
   "cell_type": "code",
   "execution_count": 4,
   "metadata": {},
   "outputs": [
    {
     "data": {
      "text/plain": [
       "4"
      ]
     },
     "execution_count": 4,
     "metadata": {},
     "output_type": "execute_result"
    }
   ],
   "source": [
    "nltk.edit_distance(\"apple\", 'juice')"
   ]
  },
  {
   "cell_type": "code",
   "execution_count": 12,
   "metadata": {},
   "outputs": [
    {
     "name": "stdout",
     "output_type": "stream",
     "text": [
      "1\n",
      "2\n",
      "3\n",
      "4\n",
      "5\n",
      "6\n"
     ]
    }
   ],
   "source": [
    "for x in [1,2,3,4,5,6]:\n",
    "  print(x)"
   ]
  },
  {
   "cell_type": "code",
   "execution_count": 13,
   "metadata": {},
   "outputs": [
    {
     "data": {
      "text/plain": [
       "1"
      ]
     },
     "execution_count": 13,
     "metadata": {},
     "output_type": "execute_result"
    }
   ],
   "source": [
    "min([1,2,34])"
   ]
  },
  {
   "cell_type": "code",
   "execution_count": null,
   "metadata": {},
   "outputs": [],
   "source": []
  }
 ],
 "metadata": {
  "kernelspec": {
   "display_name": "law_project",
   "language": "python",
   "name": "python3"
  },
  "language_info": {
   "codemirror_mode": {
    "name": "ipython",
    "version": 3
   },
   "file_extension": ".py",
   "mimetype": "text/x-python",
   "name": "python",
   "nbconvert_exporter": "python",
   "pygments_lexer": "ipython3",
   "version": "3.9.15"
  },
  "orig_nbformat": 4
 },
 "nbformat": 4,
 "nbformat_minor": 2
}
